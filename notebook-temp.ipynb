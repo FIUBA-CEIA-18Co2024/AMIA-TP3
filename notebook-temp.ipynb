{
  "cells": [
    {
      "cell_type": "markdown",
      "metadata": {
        "id": "bpJ7s_SIVu_I"
      },
      "source": [
        "# Trabajo Práctico Final: Linear/Quadratic Discriminant Analysis (LDA/QDA)\n",
        "\n",
        "### Definición: Clasificador Bayesiano\n",
        "\n",
        "Sean $k$ poblaciones, $x \\in \\mathbb{R}^p$ puede pertenecer a cualquiera $g \\in \\mathcal{G}$ de ellas. Bajo un esquema bayesiano, se define entonces $\\pi_j \\doteq P(G = j)$ la probabilidad *a priori* de que $X$ pertenezca a la clase *j*, y se **asume conocida** la distribución condicional de cada observable dado su clase $f_j \\doteq f_{X|G=j}$.\n",
        "\n",
        "De esta manera dicha probabilidad *a posteriori* resulta\n",
        "$$\n",
        "P(G|_{X=x} = j) = \\frac{f_{X|G=j}(x) \\cdot p_G(j)}{f_X(x)} \\propto f_j(x) \\cdot \\pi_j\n",
        "$$\n",
        "\n",
        "La regla de decisión de Bayes es entonces\n",
        "$$\n",
        "H(x) \\doteq \\arg \\max_{g \\in \\mathcal{G}} \\{ P(G|_{X=x} = j) \\} = \\arg \\max_{g \\in \\mathcal{G}} \\{ f_j(x) \\cdot \\pi_j \\}\n",
        "$$\n",
        "\n",
        "es decir, se predice a $x$ como perteneciente a la población $j$ cuya probabilidad a posteriori es máxima.\n",
        "\n",
        "*Ojo, a no desesperar! $\\pi_j$ no es otra cosa que una constante prefijada, y $f_j$ es, en su esencia, un campo escalar de $x$ a simplemente evaluar.*\n",
        "\n",
        "### Distribución condicional\n",
        "\n",
        "Para los clasificadores de discriminante cuadrático y lineal (QDA/LDA) se asume que $X|_{G=j} \\sim \\mathcal{N}_p(\\mu_j, \\Sigma_j)$, es decir, se asume que cada población sigue una distribución normal.\n",
        "\n",
        "Por definición, se tiene entonces que para una clase $j$:\n",
        "$$\n",
        "f_j(x) = \\frac{1}{(2 \\pi)^\\frac{p}{2} \\cdot |\\Sigma_j|^\\frac{1}{2}} e^{- \\frac{1}{2}(x-\\mu_j)^T \\Sigma_j^{-1} (x- \\mu_j)}\n",
        "$$\n",
        "\n",
        "Aplicando logaritmo (que al ser una función estrictamente creciente no afecta el cálculo de máximos/mínimos), queda algo mucho más práctico de trabajar:\n",
        "\n",
        "$$\n",
        "\\log{f_j(x)} = -\\frac{1}{2}\\log |\\Sigma_j| - \\frac{1}{2} (x-\\mu_j)^T \\Sigma_j^{-1} (x- \\mu_j) + C\n",
        "$$\n",
        "\n",
        "Observar que en este caso $C=-\\frac{p}{2} \\log(2\\pi)$, pero no se tiene en cuenta ya que al tener una constante aditiva en todas las clases, no afecta al cálculo del máximo.\n",
        "\n",
        "### LDA\n",
        "\n",
        "En el caso de LDA se hace una suposición extra, que es $X|_{G=j} \\sim \\mathcal{N}_p(\\mu_j, \\Sigma)$, es decir que las poblaciones no sólo siguen una distribución normal sino que son de igual matriz de covarianzas. Reemplazando arriba se obtiene entonces:\n",
        "\n",
        "$$\n",
        "\\log{f_j(x)} =  -\\frac{1}{2}\\log |\\Sigma| - \\frac{1}{2} (x-\\mu_j)^T \\Sigma^{-1} (x- \\mu_j) + C\n",
        "$$\n",
        "\n",
        "Ahora, como $-\\frac{1}{2}\\log |\\Sigma|$ es común a todas las clases se puede incorporar a la constante aditiva y, distribuyendo y reagrupando términos sobre $(x-\\mu_j)^T \\Sigma^{-1} (x- \\mu_j)$ se obtiene finalmente:\n",
        "\n",
        "$$\n",
        "\\log{f_j(x)} =  \\mu_j^T \\Sigma^{-1} (x- \\frac{1}{2} \\mu_j) + C'\n",
        "$$\n",
        "\n",
        "### Entrenamiento/Ajuste\n",
        "\n",
        "Obsérvese que para ambos modelos, ajustarlos a los datos implica estimar los parámetros $(\\mu_j, \\Sigma_j) \\; \\forall j = 1, \\dots, k$ en el caso de QDA, y $(\\mu_j, \\Sigma)$ para LDA.\n",
        "\n",
        "Estos parámetros se estiman por máxima verosimilitud, de manera que los estimadores resultan:\n",
        "\n",
        "* $\\hat{\\mu}_j = \\bar{x}_j$ el promedio de los $x$ de la clase *j*\n",
        "* $\\hat{\\Sigma}_j = s^2_j$ la matriz de covarianzas estimada para cada clase *j*\n",
        "* $\\hat{\\pi}_j = f_{R_j} = \\frac{n_j}{n}$ la frecuencia relativa de la clase *j* en la muestra\n",
        "* $\\hat{\\Sigma} = \\frac{1}{n} \\sum_{j=1}^k n_j \\cdot s^2_j$ el promedio ponderado (por frecs. relativas) de las matrices de covarianzas de todas las clases. *Observar que se utiliza el estimador de MV y no el insesgado*\n",
        "\n",
        "Es importante notar que si bien todos los $\\mu, \\Sigma$ deben ser estimados, la distribución *a priori* puede no inferirse de los datos sino asumirse previamente, utilizándose como entrada del modelo.\n",
        "\n",
        "### Predicción\n",
        "\n",
        "Para estos modelos, al igual que para cualquier clasificador Bayesiano del tipo antes visto, la estimación de la clase es por método *plug-in* sobre la regla de decisión $H(x)$, es decir devolver la clase que maximiza $\\hat{f}_j(x) \\cdot \\hat{\\pi}_j$, o lo que es lo mismo $\\log\\hat{f}_j(x) + \\log\\hat{\\pi}_j$."
      ]
    },
    {
      "cell_type": "markdown",
      "metadata": {
        "id": "5TDWOgpJWKQa"
      },
      "source": [
        "## Estructura del código"
      ]
    },
    {
      "cell_type": "markdown",
      "metadata": {
        "id": "6yEV8WbiWl6k"
      },
      "source": [
        "## Modelo"
      ]
    },
    {
      "cell_type": "code",
      "execution_count": 2,
      "metadata": {
        "id": "teF9O9JJmG7Z"
      },
      "outputs": [],
      "source": [
        "import numpy as np\n",
        "from numpy.linalg import det, inv\n",
        "import pandas as pd"
      ]
    },
    {
      "cell_type": "code",
      "execution_count": 3,
      "metadata": {
        "id": "sDBLvbTtlwzs"
      },
      "outputs": [],
      "source": [
        "class ClassEncoder:\n",
        "  def fit(self, y):\n",
        "    self.names = np.unique(y)\n",
        "    self.name_to_class = {name:idx for idx, name in enumerate(self.names)}\n",
        "    self.fmt = y.dtype\n",
        "    # Q1: por que no hace falta definir un class_to_name para el mapeo inverso?\n",
        "\n",
        "  def _map_reshape(self, f, arr):\n",
        "    return np.array([f(elem) for elem in arr.flatten()]).reshape(arr.shape)\n",
        "    # Q2: por que hace falta un reshape?\n",
        "\n",
        "  def transform(self, y):\n",
        "    return self._map_reshape(lambda name: self.name_to_class[name], y)\n",
        "\n",
        "  def fit_transform(self, y):\n",
        "    self.fit(y)\n",
        "    return self.transform(y)\n",
        "\n",
        "  def detransform(self, y_hat):\n",
        "    return self._map_reshape(lambda idx: self.names[idx], y_hat)"
      ]
    },
    {
      "cell_type": "code",
      "execution_count": 4,
      "metadata": {
        "id": "m0KYC8_uSOu4"
      },
      "outputs": [],
      "source": [
        "class BaseBayesianClassifier:\n",
        "  def __init__(self):\n",
        "    self.encoder = ClassEncoder()\n",
        "\n",
        "  def _estimate_a_priori(self, y):\n",
        "    a_priori = np.bincount(y.flatten().astype(int)) / y.size\n",
        "    # Q3: para que sirve bincount?\n",
        "    return np.log(a_priori)\n",
        "\n",
        "  def _fit_params(self, X, y):\n",
        "    # estimate all needed parameters for given model\n",
        "    raise NotImplementedError()\n",
        "\n",
        "  def _predict_log_conditional(self, x, class_idx):\n",
        "    # predict the log(P(x|G=class_idx)), the log of the conditional probability of x given the class\n",
        "    # this should depend on the model used\n",
        "    raise NotImplementedError()\n",
        "\n",
        "  def fit(self, X, y, a_priori=None):\n",
        "    # first encode the classes\n",
        "    y = self.encoder.fit_transform(y)\n",
        "\n",
        "    # if it's needed, estimate a priori probabilities\n",
        "    self.log_a_priori = self._estimate_a_priori(y) if a_priori is None else np.log(a_priori)\n",
        "\n",
        "    # check that a_priori has the correct number of classes\n",
        "    assert len(self.log_a_priori) == len(self.encoder.names), \"A priori probabilities do not match number of classes\"\n",
        "\n",
        "    # now that everything else is in place, estimate all needed parameters for given model\n",
        "    self._fit_params(X, y)\n",
        "    # Q4: por que el _fit_params va al final? no se puede mover a, por ejemplo, antes de la priori?\n",
        "\n",
        "  def predict(self, X):\n",
        "    # this is actually an individual prediction encased in a for-loop\n",
        "    m_obs = X.shape[1]\n",
        "    y_hat = np.empty(m_obs, dtype=self.encoder.fmt)\n",
        "\n",
        "    for i in range(m_obs):\n",
        "      encoded_y_hat_i = self._predict_one(X[:,i].reshape(-1,1))\n",
        "      y_hat[i] = self.encoder.names[encoded_y_hat_i]\n",
        "\n",
        "    # return prediction as a row vector (matching y)\n",
        "    return y_hat.reshape(1,-1)\n",
        "\n",
        "  def _predict_one(self, x):\n",
        "    # calculate all log posteriori probabilities (actually, +C)\n",
        "    log_posteriori = [ log_a_priori_i + self._predict_log_conditional(x, idx) for idx, log_a_priori_i\n",
        "                  in enumerate(self.log_a_priori) ]\n",
        "\n",
        "    # return the class that has maximum a posteriori probability\n",
        "    return np.argmax(log_posteriori)"
      ]
    },
    {
      "cell_type": "markdown",
      "metadata": {},
      "source": [
        "_predict_log_conditional:\n",
        "return 0.5*np.log(det(self.tensor_inv_cov)) - 0.5 * inner_prod.flatten()\n",
        "$$\\log{f_j(x)} = -\\frac{1}{2}\\log |\\Sigma_j^{-1}| - \\frac{1}{2} (x-\\mu_j)^T \\Sigma_j^{-1} (x- \\mu_j)$$\n",
        "_predict_one:\n",
        "return 0.5*np.log(det(inv_cov)) -0.5 * unbiased_x.T @ inv_cov @ unbiased_x\n",
        "$$\\log{f_j(x)} = -\\frac{1}{2}\\log |\\Sigma_j^{-1}| - \\frac{1}{2} (x-\\mu_j)^T \\Sigma_j^{-1} (x- \\mu_j) + \\log (\\pi_j)$$"
      ]
    },
    {
      "cell_type": "code",
      "execution_count": 5,
      "metadata": {
        "id": "IRamFdiGDuSR"
      },
      "outputs": [],
      "source": [
        "class QDA(BaseBayesianClassifier):\n",
        "\n",
        "  def _fit_params(self, X, y):\n",
        "    # estimate each covariance matrix\n",
        "    self.inv_covs = [inv(np.cov(X[:,y.flatten()==idx], bias=True))\n",
        "                      for idx in range(len(self.log_a_priori))]\n",
        "    # Q5: por que hace falta el flatten y no se puede directamente X[:,y==idx]?\n",
        "    # Q6: por que se usa bias=True en vez del default bias=False?\n",
        "    self.means = [X[:,y.flatten()==idx].mean(axis=1, keepdims=True)\n",
        "                  for idx in range(len(self.log_a_priori))]\n",
        "    # Q7: que hace axis=1? por que no axis=0?\n",
        "\n",
        "  def _predict_log_conditional(self, x, class_idx):\n",
        "    # predict the log(P(x|G=class_idx)), the log of the conditional probability of x given the class\n",
        "    # this should depend on the model used\n",
        "    inv_cov = self.inv_covs[class_idx]\n",
        "    unbiased_x =  x - self.means[class_idx]\n",
        "    return 0.5*np.log(det(inv_cov)) -0.5 * unbiased_x.T @ inv_cov @ unbiased_x"
      ]
    },
    {
      "cell_type": "code",
      "execution_count": 105,
      "metadata": {
        "id": "fRtC9HEkO5Hu"
      },
      "outputs": [],
      "source": [
        "class TensorizedQDA(QDA):\n",
        "\n",
        "    def _fit_params(self, X, y):\n",
        "        # ask plain QDA to fit params\n",
        "        super()._fit_params(X,y)\n",
        "\n",
        "        # stack onto new dimension\n",
        "        self.tensor_inv_cov = np.stack(self.inv_covs)\n",
        "        self.tensor_means = np.stack(self.means)\n",
        "\n",
        "    def _predict_log_conditionals(self,x):\n",
        "        unbiased_x = x - self.tensor_means\n",
        "        inner_prod = unbiased_x.transpose(0,2,1) @ self.tensor_inv_cov @ unbiased_x\n",
        "\n",
        "        return 0.5*np.log(det(self.tensor_inv_cov)) - 0.5 * inner_prod.flatten()\n",
        "\n",
        "    def _predict_one(self, x):\n",
        "        # return the class that has maximum a posteriori probability\n",
        "        return np.argmax(self.log_a_priori + self._predict_log_conditionals(x))"
      ]
    },
    {
      "cell_type": "markdown",
      "metadata": {
        "id": "KS_zoK-gWkRf"
      },
      "source": [
        "## Código para pruebas"
      ]
    },
    {
      "cell_type": "markdown",
      "metadata": {
        "id": "nz19b6NJed2A"
      },
      "source": [
        "Seteamos los datos"
      ]
    },
    {
      "cell_type": "code",
      "execution_count": 7,
      "metadata": {
        "id": "m05KrhUDINVs"
      },
      "outputs": [],
      "source": [
        "# hiperparámetros\n",
        "rng_seed = 6543"
      ]
    },
    {
      "cell_type": "code",
      "execution_count": 8,
      "metadata": {
        "colab": {
          "base_uri": "https://localhost:8080/"
        },
        "id": "2hkXcoldXOqs",
        "outputId": "2ce8d627-3433-4bdd-d370-85f6b703a7b9"
      },
      "outputs": [
        {
          "name": "stdout",
          "output_type": "stream",
          "text": [
            "X: (150, 4), Y:(150, 1)\n"
          ]
        },
        {
          "data": {
            "image/png": "[encoded data removed]",
            "text/plain": [
              "<Figure size 640x480 with 1 Axes>"
            ]
          },
          "metadata": {},
          "output_type": "display_data"
        }
      ],
      "source": [
        "from sklearn.datasets import load_iris, fetch_openml\n",
        "import matplotlib.pyplot as plt\n",
        "import seaborn as sns\n",
        "\n",
        "def get_iris_dataset():\n",
        "  data = load_iris()\n",
        "  X_full = data.data\n",
        "  y_full = np.array([data.target_names[y] for y in data.target.reshape(-1,1)])\n",
        "  \n",
        "  _, ax = plt.subplots()\n",
        "  scatter = ax.scatter(data.data[:, 0], data.data[:, 1], c=data.target)\n",
        "  ax.set(xlabel=data.feature_names[0], ylabel=data.feature_names[1])\n",
        "  _ = ax.legend( scatter.legend_elements()[0], data.target_names, loc=\"lower right\", title=\"Classes\")\n",
        "  \n",
        "  return X_full, y_full\n",
        "\n",
        "def get_penguins():\n",
        "    # get data\n",
        "    df, tgt = fetch_openml(name=\"penguins\", return_X_y=True, as_frame=True, parser='auto')\n",
        "    \n",
        "    # Agregar la columna de la especie (target) al DataFrame\n",
        "    aux = df.copy()\n",
        "    aux['species'] = tgt\n",
        "    # Crear un scatter plot\n",
        "    plt.figure(figsize=(10, 6))\n",
        "    sns.scatterplot(data=aux, x='culmen_length_mm', y='flipper_length_mm', hue='species', style='species', s=80)\n",
        "    plt.title('Relación entre longitud del culmen y longitud de la aleta por especie')\n",
        "    plt.xlabel('Longitud del culmen (mm)')\n",
        "    plt.ylabel('Longitud de la aleta (mm)')\n",
        "    plt.legend(title='Especie')\n",
        "    plt.show()\n",
        "\n",
        "    # drop non-numeric columns\n",
        "    df.drop(columns=[\"island\",\"sex\"], inplace=True)\n",
        "\n",
        "    # drop rows with missing values\n",
        "    mask = df.isna().sum(axis=1) == 0\n",
        "    df = df[mask]\n",
        "    tgt = tgt[mask]\n",
        "\n",
        "    return df.values, tgt.to_numpy().reshape(-1,1)\n",
        "\n",
        "# showing for iris\n",
        "X_full, y_full = get_iris_dataset()\n",
        "\n",
        "print(f\"X: {X_full.shape}, Y:{y_full.shape}\")"
      ]
    },
    {
      "cell_type": "code",
      "execution_count": 9,
      "metadata": {
        "colab": {
          "base_uri": "https://localhost:8080/"
        },
        "id": "jAk-UQCjKecT",
        "outputId": "9566d67a-b78b-4809-bb94-8f605b065db6"
      },
      "outputs": [
        {
          "data": {
            "text/plain": [
              "array([[5.1, 3.5, 1.4, 0.2],\n",
              "       [4.9, 3. , 1.4, 0.2],\n",
              "       [4.7, 3.2, 1.3, 0.2],\n",
              "       [4.6, 3.1, 1.5, 0.2],\n",
              "       [5. , 3.6, 1.4, 0.2]])"
            ]
          },
          "execution_count": 9,
          "metadata": {},
          "output_type": "execute_result"
        }
      ],
      "source": [
        "# peek data matrix\n",
        "X_full[:5]"
      ]
    },
    {
      "cell_type": "code",
      "execution_count": 10,
      "metadata": {
        "colab": {
          "base_uri": "https://localhost:8080/"
        },
        "id": "YdzMURX2KVdO",
        "outputId": "af5fc3ac-b391-4769-de47-44cea4f566c8"
      },
      "outputs": [
        {
          "data": {
            "text/plain": [
              "array([['setosa'],\n",
              "       ['setosa'],\n",
              "       ['setosa'],\n",
              "       ['setosa'],\n",
              "       ['setosa']], dtype='<U10')"
            ]
          },
          "execution_count": 10,
          "metadata": {},
          "output_type": "execute_result"
        }
      ],
      "source": [
        "# peek target vector\n",
        "y_full[:5]"
      ]
    },
    {
      "cell_type": "markdown",
      "metadata": {
        "id": "Kl8UFh1OegbJ"
      },
      "source": [
        "Separamos el dataset en train y test para medir performance"
      ]
    },
    {
      "cell_type": "code",
      "execution_count": 11,
      "metadata": {
        "colab": {
          "base_uri": "https://localhost:8080/"
        },
        "id": "LKP_QmWCIECs",
        "outputId": "07798c6a-aa54-430e-d46d-becc2a4315ed"
      },
      "outputs": [
        {
          "name": "stdout",
          "output_type": "stream",
          "text": [
            "(4, 90) (1, 90) (4, 60) (1, 60)\n"
          ]
        }
      ],
      "source": [
        "# preparing data, train - test validation\n",
        "# 70-30 split\n",
        "from sklearn.model_selection import train_test_split\n",
        "\n",
        "def split_transpose(X, y, test_sz, random_state):\n",
        "    # split\n",
        "    X_train, X_test, y_train, y_test = train_test_split(X, y, test_size=0.4, random_state=random_state)\n",
        "\n",
        "    # transpose so observations are column vectors\n",
        "    return X_train.T, y_train.T, X_test.T, y_test.T\n",
        "\n",
        "def accuracy(y_true, y_pred):\n",
        "  return (y_true == y_pred).mean()\n",
        "\n",
        "train_x, train_y, test_x, test_y = split_transpose(X_full, y_full, 0.4, rng_seed)\n",
        "\n",
        "print(train_x.shape, train_y.shape, test_x.shape, test_y.shape)"
      ]
    },
    {
      "cell_type": "markdown",
      "metadata": {
        "id": "LwgXFPbJemb_"
      },
      "source": [
        "Entrenamos un QDA y medimos su accuracy"
      ]
    },
    {
      "cell_type": "code",
      "execution_count": 102,
      "metadata": {
        "id": "dGIf2TA5SpoT"
      },
      "outputs": [],
      "source": [
        "qda = QDA()\n",
        "\n",
        "qda.fit(train_x, train_y)"
      ]
    },
    {
      "cell_type": "code",
      "execution_count": 103,
      "metadata": {
        "colab": {
          "base_uri": "https://localhost:8080/"
        },
        "id": "c0Q30DyLWpTL",
        "outputId": "dbccae86-840c-412f-ed97-22cfac21238a"
      },
      "outputs": [
        {
          "name": "stdout",
          "output_type": "stream",
          "text": [
            "Train (apparent) error is 0.0111 while test error is 0.0167\n"
          ]
        }
      ],
      "source": [
        "train_acc = accuracy(train_y, qda.predict(train_x))\n",
        "test_acc = accuracy(test_y, qda.predict(test_x))\n",
        "print(f\"Train (apparent) error is {1-train_acc:.4f} while test error is {1-test_acc:.4f}\")"
      ]
    },
    {
      "cell_type": "markdown",
      "metadata": {
        "id": "-QcLtNNIevC_"
      },
      "source": [
        "Con el magic %%timeit podemos estimar el tiempo que tarda en correr una celda en base a varias ejecuciones. Por poner un ejemplo, acá vamos a estimar lo que tarda un ciclo completo de QDA y también su inferencia (predicción).\n",
        "\n",
        "Ojo! a veces [puede ser necesario ejecutarlo varias veces](https://stackoverflow.com/questions/10994405/python-timeit-results-cached-instead-of-calculated) para obtener resultados consistentes.\n",
        "\n",
        "Si quieren explorar otros métodos de medición también es válido!"
      ]
    },
    {
      "cell_type": "code",
      "execution_count": 14,
      "metadata": {
        "colab": {
          "base_uri": "https://localhost:8080/"
        },
        "id": "vnZT-HN2fUuW",
        "outputId": "2618e7c1-7a77-4285-bafb-c2880ad167a1"
      },
      "outputs": [
        {
          "name": "stdout",
          "output_type": "stream",
          "text": [
            "3.72 ms ± 394 μs per loop (mean ± std. dev. of 7 runs, 100 loops each)\n"
          ]
        }
      ],
      "source": [
        "%%timeit\n",
        "\n",
        "qda.predict(test_x)"
      ]
    },
    {
      "cell_type": "code",
      "execution_count": 15,
      "metadata": {
        "colab": {
          "base_uri": "https://localhost:8080/"
        },
        "id": "kjFbVSqfeHUX",
        "outputId": "0254a727-a1d5-4be3-b73a-2f55d2c84a25"
      },
      "outputs": [
        {
          "name": "stdout",
          "output_type": "stream",
          "text": [
            "4.07 ms ± 97.8 μs per loop (mean ± std. dev. of 7 runs, 100 loops each)\n"
          ]
        }
      ],
      "source": [
        "%%timeit\n",
        "\n",
        "model = QDA()\n",
        "model.fit(train_x, train_y)\n",
        "model.predict(test_x)"
      ]
    },
    {
      "cell_type": "markdown",
      "metadata": {},
      "source": [
        "## Implementación base\n",
        "1. Entrenar un modelo QDA sobre el dataset *iris* utilizando las distribuciones *a priori* a continuación ¿Se observan diferencias?¿Por qué cree? _Pista: comparar con las distribuciones del dataset completo, **sin splitear**_.\n",
        "    1. Uniforme (cada clase tiene probabilidad 1/3)\n",
        "    2. Una clase con probabilidad 0.9, las demás 0.05 (probar las 3 combinaciones)\n",
        "2. Repetir el punto anterior para el dataset *penguin*.\n",
        "3. Implementar el modelo LDA, entrenarlo y testearlo contra los mismos sets que QDA (no múltiples prioris) ¿Se observan diferencias? ¿Podría decirse que alguno de los dos es notoriamente mejor que el otro?\n",
        "4. Utilizar otros 2 (dos) valores de *random seed* para obtener distintos splits de train y test, y repetir la comparación del punto anterior ¿Las conclusiones previas se mantienen?\n",
        "5. Estimar y comparar los tiempos de predicción de las clases `QDA` y `TensorizedQDA`. De haber diferencias ¿Cuáles pueden ser las causas?"
      ]
    },
    {
      "cell_type": "markdown",
      "metadata": {},
      "source": [
        "1. Entrenar un modelo QDA sobre el dataset *iris* utilizando las distribuciones *a priori* a continuación ¿Se observan diferencias?¿Por qué cree? _Pista: comparar con las distribuciones del dataset completo, **sin splitear**_.\n",
        "    1. Uniforme (cada clase tiene probabilidad 1/3)\n",
        "    2. Una clase con probabilidad 0.9, las demás 0.05 (probar las 3 combinaciones)"
      ]
    },
    {
      "cell_type": "code",
      "execution_count": 16,
      "metadata": {},
      "outputs": [
        {
          "name": "stdout",
          "output_type": "stream",
          "text": [
            "Train (apparent) error is 0.0222 while test error is 0.0167\n"
          ]
        },
        {
          "data": {
            "image/png": "[encoded data removed]",
            "text/plain": [
              "<Figure size 640x480 with 1 Axes>"
            ]
          },
          "metadata": {},
          "output_type": "display_data"
        }
      ],
      "source": [
        "qda.fit(train_x, train_y, a_priori= np.array([1/3, 1/3, 1/3]))\n",
        "train_acc = accuracy(train_y, qda.predict(train_x))\n",
        "test_acc = accuracy(test_y, qda.predict(test_x))\n",
        "print(f\"Train (apparent) error is {1-train_acc:.4f} while test error is {1-test_acc:.4f}\")\n",
        "#comparar con las distribuciones del dataset completo\n",
        "X_full, y_full = get_iris_dataset()\n",
        "qda.fit(X_full.transpose(), y_full.transpose(), a_priori= np.array([1/3, 1/3, 1/3]))"
      ]
    },
    {
      "cell_type": "code",
      "execution_count": 17,
      "metadata": {},
      "outputs": [
        {
          "name": "stdout",
          "output_type": "stream",
          "text": [
            "3.9 ms ± 217 μs per loop (mean ± std. dev. of 7 runs, 100 loops each)\n"
          ]
        }
      ],
      "source": [
        "%%timeit\n",
        "\n",
        "qda.predict(test_x)"
      ]
    },
    {
      "cell_type": "code",
      "execution_count": 18,
      "metadata": {},
      "outputs": [
        {
          "name": "stdout",
          "output_type": "stream",
          "text": [
            "4.43 ms ± 407 μs per loop (mean ± std. dev. of 7 runs, 100 loops each)\n"
          ]
        }
      ],
      "source": [
        "%%timeit\n",
        "\n",
        "model = QDA()\n",
        "model.fit(train_x, train_y)\n",
        "model.predict(test_x)"
      ]
    },
    {
      "cell_type": "code",
      "execution_count": 19,
      "metadata": {},
      "outputs": [
        {
          "name": "stdout",
          "output_type": "stream",
          "text": [
            "Train (apparent) error is 0.0222 while test error is 0.0167\n"
          ]
        }
      ],
      "source": [
        "qda.fit(train_x, train_y, a_priori= np.array([0.9, 0.05, 0.05]))\n",
        "train_acc = accuracy(train_y, qda.predict(train_x))\n",
        "test_acc = accuracy(test_y, qda.predict(test_x))\n",
        "print(f\"Train (apparent) error is {1-train_acc:.4f} while test error is {1-test_acc:.4f}\")\n",
        "#comparar con las distribuciones del dataset completo\n",
        "qda.fit(X_full.transpose(), y_full.transpose(), a_priori= np.array([0.9, 0.05, 0.05]))"
      ]
    },
    {
      "cell_type": "code",
      "execution_count": 20,
      "metadata": {},
      "outputs": [
        {
          "name": "stdout",
          "output_type": "stream",
          "text": [
            "3.98 ms ± 167 μs per loop (mean ± std. dev. of 7 runs, 100 loops each)\n"
          ]
        }
      ],
      "source": [
        "%%timeit\n",
        "\n",
        "qda.predict(test_x)"
      ]
    },
    {
      "cell_type": "code",
      "execution_count": 21,
      "metadata": {},
      "outputs": [
        {
          "name": "stdout",
          "output_type": "stream",
          "text": [
            "4.36 ms ± 105 μs per loop (mean ± std. dev. of 7 runs, 100 loops each)\n"
          ]
        }
      ],
      "source": [
        "%%timeit\n",
        "\n",
        "model = QDA()\n",
        "model.fit(train_x, train_y)\n",
        "model.predict(test_x)"
      ]
    },
    {
      "cell_type": "markdown",
      "metadata": {},
      "source": [
        "2. Repetir el punto anterior para el dataset *penguin*."
      ]
    },
    {
      "cell_type": "code",
      "execution_count": 22,
      "metadata": {},
      "outputs": [
        {
          "data": {
            "image/png": "[encoded data removed]",
            "text/plain": [
              "<Figure size 1000x600 with 1 Axes>"
            ]
          },
          "metadata": {},
          "output_type": "display_data"
        },
        {
          "name": "stdout",
          "output_type": "stream",
          "text": [
            "X: (342, 4), Y:(342, 1)\n"
          ]
        }
      ],
      "source": [
        "df, tgt = get_penguins()\n",
        "print(f\"X: {df.shape}, Y:{tgt.shape}\")"
      ]
    },
    {
      "cell_type": "code",
      "execution_count": 23,
      "metadata": {},
      "outputs": [
        {
          "data": {
            "text/plain": [
              "array([[  39.1,   18.7,  181. , 3750. ],\n",
              "       [  39.5,   17.4,  186. , 3800. ],\n",
              "       [  40.3,   18. ,  195. , 3250. ],\n",
              "       [  36.7,   19.3,  193. , 3450. ],\n",
              "       [  39.3,   20.6,  190. , 3650. ]])"
            ]
          },
          "metadata": {},
          "output_type": "display_data"
        },
        {
          "data": {
            "text/plain": [
              "array([['Adelie'],\n",
              "       ['Adelie'],\n",
              "       ['Adelie'],\n",
              "       ['Adelie'],\n",
              "       ['Adelie']], dtype=object)"
            ]
          },
          "metadata": {},
          "output_type": "display_data"
        }
      ],
      "source": [
        "display(df[:5])\n",
        "display(tgt[:5])"
      ]
    },
    {
      "cell_type": "code",
      "execution_count": 24,
      "metadata": {},
      "outputs": [
        {
          "data": {
            "text/plain": [
              "(4, 205)"
            ]
          },
          "metadata": {},
          "output_type": "display_data"
        },
        {
          "data": {
            "text/plain": [
              "(1, 205)"
            ]
          },
          "metadata": {},
          "output_type": "display_data"
        },
        {
          "data": {
            "text/plain": [
              "(4, 137)"
            ]
          },
          "metadata": {},
          "output_type": "display_data"
        },
        {
          "data": {
            "text/plain": [
              "(1, 137)"
            ]
          },
          "metadata": {},
          "output_type": "display_data"
        }
      ],
      "source": [
        "train_x_2, train_y_2, test_x_2, test_y_2 = split_transpose(df, tgt, 0.4, rng_seed)\n",
        "display(train_x_2.shape, train_y_2.shape, test_x_2.shape, test_y_2.shape)"
      ]
    },
    {
      "cell_type": "code",
      "execution_count": 104,
      "metadata": {},
      "outputs": [
        {
          "name": "stdout",
          "output_type": "stream",
          "text": [
            "[-39.56320098 -46.67323436 -10.23423757]\n",
            "[-11.43181317 -25.69838188 -84.80343581]\n",
            "[ -13.69956617  -27.88351973 -116.08488424]\n",
            "[-37.22569519 -42.02955646 -11.88534854]\n",
            "[-39.92169323 -45.24049351  -8.89835226]\n",
            "[-12.28981036 -10.84815638 -52.3607401 ]\n",
            "[ -9.70668686 -16.35437347 -69.90897374]\n",
            "[ -9.28707862 -15.74246075 -67.17690956]\n",
            "[-14.87515899 -15.75045888 -38.23215247]\n",
            "[-30.49363628 -35.35417679  -9.04861867]\n",
            "[ -9.96040753 -13.12244839 -57.85801404]\n",
            "[-34.55204712 -38.67641794  -8.50102001]\n",
            "[-22.39475648 -10.04248025 -44.70564979]\n",
            "[-12.42081606 -10.79534082 -59.12386097]\n",
            "[ -9.85537337 -19.54017347 -62.63876387]\n",
            "[-21.06281401  -8.79906115 -64.78612348]\n",
            "[-41.95609434 -48.42193917 -10.52507576]\n",
            "[-30.6761685  -34.76377391  -8.72394465]\n",
            "[-52.59234866 -59.5603668  -12.66019141]\n",
            "[-34.83884438 -39.69210833  -9.17593094]\n",
            "[ -9.14833795 -16.32288923 -63.90859345]\n",
            "[-21.79968065  -8.92592764 -50.45463535]\n",
            "[-10.15937571 -24.57239628 -62.57779451]\n",
            "[-11.80957093 -18.69830978 -40.64787974]\n",
            "[-26.97530152  -9.68443082 -63.69613714]\n",
            "[-30.01318953 -11.76117938 -96.22085111]\n",
            "[ -9.35922215 -18.75163496 -69.96436794]\n",
            "[-36.53060998 -38.70442219 -11.00938164]\n",
            "[-10.86981955 -16.28020273 -54.96251688]\n",
            "[-21.85735337  -8.90154695 -64.20983864]\n",
            "[-36.67479083 -44.02739813  -8.90182471]\n",
            "[-30.09130271 -36.90083885 -12.04947487]\n",
            "[-11.75486565 -38.40694488 -95.48279392]\n",
            "[-11.40447359 -31.69764121 -92.9729229 ]\n",
            "[ -9.05622056 -20.98106846 -79.80257875]\n",
            "[-30.44246885 -38.01940422 -10.24157468]\n",
            "[-11.52253795 -24.77502727 -66.15631324]\n",
            "[-31.73215027 -37.38035067  -9.3709035 ]\n",
            "[-36.61975192 -44.8496918  -10.98534536]\n",
            "[ -9.61774992 -18.09494264 -67.31053917]\n",
            "[-41.70101921 -48.01835156 -10.76710343]\n",
            "[-48.58048025 -56.85820827 -11.01712177]\n",
            "[-12.17282993 -15.78146049 -72.8792028 ]\n",
            "[-12.01788521 -26.05200771 -71.49507553]\n",
            "[ -9.92174331 -19.30992401 -54.54284893]\n",
            "[-20.50646924  -8.63779453 -59.53738803]\n",
            "[-10.52767748 -16.27085305 -67.94941037]\n",
            "[-11.00952042 -21.36863779 -53.7131727 ]\n",
            "[-36.59897648 -42.99469561  -8.31842355]\n",
            "[-35.51107752 -41.43590168  -8.38496451]\n",
            "[ -9.50993025 -22.75928599 -71.40939564]\n",
            "[-23.1973884   -9.45186917 -77.94558705]\n",
            "[-15.48072096  -9.40928572 -58.62237429]\n",
            "[-33.74517892 -36.78969405  -9.86058707]\n",
            "[-21.27288351  -9.0655638  -59.39686852]\n",
            "[-16.90810717  -9.77760849 -74.640954  ]\n",
            "[ -12.72598729  -23.59477847 -102.05141597]\n",
            "[-10.17976769 -14.3229822  -51.44727471]\n",
            "[-32.3251136  -35.9370217   -9.44317898]\n",
            "[-32.05618208 -11.69030038 -90.53619691]\n",
            "[-10.19060947 -25.34014027 -95.01994067]\n",
            "[ -9.69353876 -13.68622404 -51.80549058]\n",
            "[-12.92299368 -28.73321515 -80.80359532]\n",
            "[ -15.9868495   -52.73161394 -114.20450449]\n",
            "[-52.1739224  -59.37639892 -12.85737501]\n",
            "[-10.14848304 -18.51055187 -51.42761595]\n",
            "[-30.07535519  -9.75811398 -82.75391535]\n",
            "[-31.65407534 -34.40374632 -12.28959185]\n",
            "[-31.08687256 -36.66258885  -9.14179503]\n",
            "[-33.78270743 -37.24993602 -10.60712906]\n",
            "[-10.8220898  -17.0745781  -61.35969437]\n",
            "[-30.92378822 -35.08111233  -8.4364484 ]\n",
            "[ -9.906526   -19.15635684 -83.08970405]\n",
            "[-31.34593476 -35.76031421  -9.98263854]\n",
            "[-30.98556793  -9.773689   -73.43399884]\n",
            "[-10.05715993 -13.20033447 -59.23930321]\n",
            "[ -9.09281721 -15.96285036 -59.3411535 ]\n",
            "[-11.91448828 -19.5730046  -36.38822552]\n",
            "[-33.49616785 -41.28110163 -10.13398316]\n",
            "[-32.71132888 -37.56154203  -9.21473018]\n",
            "[-28.75304453 -33.65865006  -9.36317135]\n",
            "[-10.4599043  -19.58453564 -69.40604177]\n",
            "[ -9.16903145 -25.09551883 -83.66216784]\n",
            "[-33.06025912 -37.00629082 -10.15547452]\n",
            "[-15.96373771 -11.8530353  -59.95995801]\n",
            "[-17.16312111 -11.14289564 -46.79367262]\n",
            "[ -12.34906644  -36.56187276 -103.56815303]\n",
            "[-10.45026569 -22.15197789 -58.82579939]\n",
            "[-12.21381511 -30.15777362 -63.45896448]\n",
            "[-40.57056277 -48.22978882  -9.55042559]\n",
            "[-10.14550948 -17.91769495 -68.05967042]\n",
            "[-11.43362126 -28.65170688 -72.12924909]\n",
            "[-40.31269694 -42.35842027 -10.96434132]\n",
            "[-44.45189916 -51.27309101 -10.22579347]\n",
            "[-14.45067382 -13.8286019  -56.41757684]\n",
            "[ -9.23757892 -25.16042954 -82.6975174 ]\n",
            "[-40.99919464 -47.56026913  -8.66567391]\n",
            "[-10.18859849 -23.19049568 -81.3537027 ]\n",
            "[-37.40461703 -44.92714032  -8.86909466]\n",
            "[-11.06121957 -16.80700829 -66.15578265]\n",
            "[-17.19778869 -10.17300499 -58.87942877]\n",
            "[ -9.83600292 -28.33919623 -96.90461489]\n",
            "[ -8.7842352  -18.09631495 -66.79417416]\n",
            "[-10.37938967 -31.8538938  -89.41978581]\n",
            "[-10.24282831 -26.19636825 -68.48510503]\n",
            "[-17.47736449 -10.37632994 -44.21171554]\n",
            "[-46.13791118 -55.38317082 -10.54993472]\n",
            "[-39.56906384 -44.24010456  -8.69687254]\n",
            "[-21.99137129  -8.29629365 -60.66791703]\n",
            "[-17.62132029 -11.08849054 -32.98563735]\n",
            "[-43.67067512 -50.60358891 -10.22042665]\n",
            "[-26.0809289   -9.14878571 -61.33032132]\n",
            "[-36.89144641 -44.61964972  -9.3311786 ]\n",
            "[ -9.4251475  -13.81072431 -55.20941191]\n",
            "[-38.32117157 -42.53206335  -8.75058771]\n",
            "[-37.35361958 -43.28004152  -8.31365585]\n",
            "[ -9.82897847 -21.80963495 -66.78941384]\n",
            "[ -9.05203646 -17.32985866 -70.05207256]\n",
            "[-35.71881915 -38.47232564  -9.29877543]\n",
            "[-21.16227626 -11.13621604 -57.36707562]\n",
            "[-11.14318479 -29.71082823 -99.97980464]\n",
            "[-10.62482631 -19.1085187  -44.33604597]\n",
            "[-10.54205604 -28.23193736 -94.38887852]\n",
            "[-10.89336484 -18.12023424 -65.78586228]\n",
            "[-45.89662653 -55.12795995 -12.23701358]\n",
            "[ -9.5166251  -15.09680375 -70.00438888]\n",
            "[ -9.64430688 -21.80168648 -68.51693774]\n",
            "[-19.67095852 -10.7272669  -42.91134979]\n",
            "[-28.58355592 -33.721269   -10.62377648]\n",
            "[ -9.82030177 -18.50719889 -75.29050657]\n",
            "[-11.4991074  -25.82587953 -65.16680126]\n",
            "[-33.02369906 -39.64905118  -9.18171081]\n",
            "[-20.87729249  -9.02558158 -72.55810429]\n",
            "[-35.32818032 -40.5942415   -8.27239488]\n",
            "[-12.51629683 -19.69383924 -82.43997385]\n",
            "[-31.97205664 -35.58531258  -8.6123713 ]\n",
            "[ -9.69903761 -21.72002625 -66.53472436]\n",
            "[-37.1610329  -11.11571104 -67.96227618]\n",
            "[-10.02419236 -22.28371228 -89.01952194]\n",
            "[-37.65597047 -45.4020549   -9.909004  ]\n",
            "[-30.08887803 -33.96114315  -9.50779244]\n",
            "[-39.39083107 -47.6145866   -9.8138764 ]\n",
            "[-30.64038977 -31.64414106  -9.57571389]\n",
            "[-23.33641582  -9.57666709 -60.26662004]\n",
            "[-45.12193349 -44.87093425 -12.73952581]\n",
            "[-42.40223621 -48.55883544 -10.89193353]\n",
            "[-38.4107142  -45.85014888  -9.47222675]\n",
            "[-20.56191202  -8.41785791 -61.80137411]\n",
            "[-40.13840439 -47.25609294  -9.04954443]\n",
            "[-32.02243916 -35.55387134  -8.62140564]\n",
            "[-10.69057297 -24.34058367 -85.28021609]\n",
            "[-30.13381549 -33.09166711  -8.6209691 ]\n",
            "[-32.46099396 -36.59965298 -10.25348244]\n",
            "[-21.62040658 -12.63773963 -57.6091919 ]\n",
            "[-28.14609877 -32.01061987  -9.28167642]\n",
            "[ -9.65510194 -17.56080232 -64.638789  ]\n",
            "[-26.75516059  -9.54112825 -82.37851209]\n",
            "[-22.32091876  -8.584498   -57.28528038]\n",
            "[-41.76198509 -45.35456355 -10.88210259]\n",
            "[ -9.39185971 -25.97283666 -80.22397447]\n",
            "[-12.20075683 -16.17315236 -87.71063998]\n",
            "[-11.83825739 -23.70686977 -45.48679992]\n",
            "[-10.56211989 -16.59653965 -54.29688088]\n",
            "[-15.01121417  -8.81183381 -56.19152294]\n",
            "[-11.53899181 -18.96090679 -52.69266312]\n",
            "[-24.48424619  -9.29723294 -55.16983898]\n",
            "[-35.80004804 -42.24477872  -8.64702909]\n",
            "[-10.19100232 -17.1507086  -70.09027687]\n",
            "[ -9.39453221 -21.73427384 -67.44254082]\n",
            "[-28.75255747 -31.89385112  -9.3224364 ]\n",
            "[-37.883887   -43.91556259  -8.56381911]\n",
            "[-26.31692678 -30.35301013  -9.87558036]\n",
            "[-35.87220466 -41.74928186  -8.27228636]\n",
            "[ -12.26780891  -28.06521903 -111.29569997]\n",
            "[-30.71756354 -32.23478595 -12.74368407]\n",
            "[-44.64739069 -53.03725338 -11.27484915]\n",
            "[-32.85586335 -36.23531228  -9.65108527]\n",
            "[-36.1872527  -37.62756401 -10.09084284]\n",
            "[-10.48706547 -31.70039969 -93.782053  ]\n",
            "[ -9.47276901 -27.11118113 -84.44144911]\n",
            "[-10.60811174 -24.93597327 -83.51949501]\n",
            "[-10.44733895 -22.64660384 -54.92702644]\n",
            "[-31.50956112 -36.06458917  -8.27748287]\n",
            "[-37.25300175 -43.14100529  -9.02639567]\n",
            "[-10.54220231 -32.51607338 -94.4248745 ]\n",
            "[-34.4327136  -38.19430302  -9.62624805]\n",
            "[-41.8291033  -49.00736568 -13.31595779]\n",
            "[-43.63685332 -49.77260785 -10.25882932]\n",
            "[-12.05257848 -12.65506665 -65.69656711]\n",
            "[-10.11994536 -32.20454913 -94.73544581]\n",
            "[ -9.54639271 -15.9220073  -58.53606773]\n",
            "[-10.25034101 -21.91317695 -59.06849875]\n",
            "[-33.47117258 -39.98245684  -9.31401372]\n",
            "[-25.60591711 -30.62844115 -16.36799152]\n",
            "[-22.71882139 -12.88205854 -39.99807351]\n",
            "[-31.00216343 -35.97893026  -9.27486936]\n",
            "[-37.60592021 -37.90094892 -11.42021416]\n",
            "[-13.47551972 -17.55425885 -37.29946734]\n",
            "[-26.30630055  -8.98297335 -75.15227433]\n",
            "[-38.93987518 -46.57467442  -9.37615191]\n",
            "[-32.36087277 -34.65685762 -10.64949477]\n",
            "[-40.68964869 -45.62304439 -10.59336375]\n",
            "[-12.2310528  -10.79666786 -56.63465752]\n",
            "[-19.30319427 -11.84475711 -49.70358779]\n",
            "[ -11.16481807  -30.77040165 -109.75998054]\n",
            "[-25.66647924 -13.77291628 -62.10018306]\n",
            "[ -9.24454539 -20.93851509 -83.9849101 ]\n",
            "[-41.69691466 -47.90839305 -10.39167729]\n",
            "[-14.87883684 -10.8790081  -77.45474838]\n",
            "[ -9.00675398 -21.08227462 -63.64419063]\n",
            "[-14.81512976  -8.77897808 -51.92553388]\n",
            "[-37.03622071 -46.02106184 -10.64091212]\n",
            "[ -9.61519995 -21.24653983 -70.67566277]\n",
            "[ -9.38758219 -17.6119464  -63.17928531]\n",
            "[-10.0432416  -25.16054856 -70.06636342]\n",
            "[-10.08015906 -25.49126024 -65.59801103]\n",
            "[-11.75773994 -19.09318714 -96.44717605]\n",
            "[-44.44926488 -51.49168278  -9.41411675]\n",
            "[-41.61022217 -48.35205753  -9.66377881]\n",
            "[-10.97046556 -31.82726207 -76.229896  ]\n",
            "[-41.89582931 -48.08785122  -9.0583532 ]\n",
            "[-39.86965641 -44.35367899  -8.95588427]\n",
            "[-15.81197034 -11.93725875 -81.35441643]\n",
            "[-25.26292559 -10.54847391 -57.52442997]\n",
            "[-47.00499047 -55.76413831 -11.8468294 ]\n",
            "[-10.67876683 -22.0087839  -75.9838538 ]\n",
            "[ -9.02519064 -18.26618772 -67.2736523 ]\n",
            "[-14.71196824  -9.06494033 -48.72954906]\n",
            "[-42.9547578  -47.37371727 -10.43290587]\n",
            "[-35.25488654 -41.5679432   -8.8599704 ]\n",
            "[-24.55196584 -10.22894848 -45.89315164]\n",
            "[-26.56706689 -31.07540405 -10.31474778]\n",
            "[ -9.27664173 -21.24067156 -68.57536825]\n",
            "[-33.11081081 -36.53230927  -9.0341023 ]\n",
            "[-11.85912668 -11.13287064 -60.57783049]\n",
            "[-12.72046349 -10.04453108 -43.8010743 ]\n",
            "[-24.79697712  -9.08908618 -56.6941495 ]\n",
            "[-13.81174606 -29.25622579 -52.50877841]\n",
            "[-20.16220048 -13.32984964 -92.50621558]\n",
            "[-15.35477406  -9.14334955 -50.37579419]\n",
            "[-10.05537257 -24.18648776 -88.27607054]\n",
            "[-23.33061333 -10.62546613 -57.48403745]\n",
            "[-11.49738319 -14.98691301 -67.98231721]\n",
            "[-11.23384158 -19.46568423 -47.07142893]\n",
            "[ -9.91688422 -13.2269049  -52.09464101]\n",
            "[-32.58072815 -37.6380138   -8.39066172]\n",
            "[ -9.2242409  -15.42853787 -57.33102399]\n",
            "[-50.54015088 -60.53962471 -13.03461493]\n",
            "[ -9.65394907 -17.96636727 -58.8596752 ]\n",
            "[-11.04241283 -16.1551439  -80.40533557]\n",
            "[ -12.87454593  -37.93793807 -125.53415217]\n",
            "[ -9.98881634 -29.93211783 -98.99073161]\n",
            "[-10.02726767 -16.07522999 -48.26560193]\n",
            "[ -9.85921485 -21.79956425 -72.54713873]\n",
            "[-55.28207889 -65.62561825 -15.61998723]\n",
            "[-10.7033762  -26.54442575 -69.18417666]\n",
            "[-11.42700799 -12.49240591 -54.06143   ]\n",
            "[-10.07719359 -31.61229671 -91.05687469]\n",
            "[ -9.41955991 -19.26193899 -76.94751765]\n",
            "[-12.68592416 -26.03965959 -89.95241128]\n",
            "[ -9.49220742 -25.39751905 -76.66792117]\n",
            "[-15.46836247  -9.9475476  -43.81857894]\n",
            "[-41.81053703 -47.79837064  -9.12286217]\n",
            "[-40.42256296 -44.74333109  -9.79347502]\n",
            "[ -9.4960112  -15.88364336 -67.45834162]\n",
            "[-18.59742699  -9.43590794 -61.29346202]\n",
            "[ -11.61553346  -34.70230074 -107.51385385]\n",
            "[ -9.38091859 -24.58042822 -71.80844819]\n",
            "[-10.90724884 -22.02902953 -90.27107518]\n",
            "[-26.59260608 -29.27117295 -10.91872492]\n",
            "[-10.29757094 -17.78508973 -85.26168141]\n",
            "[-25.23163161  -9.58060182 -68.01637356]\n",
            "[-10.79340976 -20.46620608 -59.13261888]\n",
            "[-10.29268629 -23.04206133 -90.75684573]\n",
            "[-10.12237054 -19.47293857 -67.7038704 ]\n",
            "[-29.39893768 -11.37055199 -81.7190836 ]\n",
            "[-10.84723629 -15.21722411 -73.96561054]\n",
            "[-34.10047158 -36.73810044  -9.44932859]\n",
            "[ -11.94350487  -25.31248013 -101.7238227 ]\n",
            "[-34.49237169 -39.27046205  -8.15260152]\n",
            "[-10.13918049 -16.18579616 -52.72441469]\n",
            "[-11.21948525 -17.70881692 -66.38062201]\n",
            "[-30.10740769 -34.98623316  -9.92069598]\n",
            "[-11.78940088 -31.05922272 -95.16524953]\n",
            "[-10.36385187 -12.91305872 -44.29825003]\n",
            "[-51.37669297 -27.12072872 -95.10008584]\n",
            "[-27.2107549  -33.39389069 -11.11036365]\n",
            "[ -8.81155834 -22.03005751 -75.75084556]\n",
            "[-31.93899656 -37.15483585  -8.50501517]\n",
            "[ -9.92829132 -14.29534828 -53.72800135]\n",
            "[-46.15799124 -53.99235816 -11.10681469]\n",
            "[-10.47770035 -30.15713511 -93.11734287]\n",
            "[-10.61153842 -16.85148698 -64.85614372]\n",
            "[-35.11048155 -39.48267073  -8.71347239]\n",
            "[-23.18248704 -10.37807579 -47.26098754]\n",
            "[-43.17755591 -49.58083159  -9.41049881]\n",
            "[-46.16975058 -54.05458433 -10.04757803]\n",
            "[-47.71214739 -56.89002295 -11.06858719]\n",
            "[-12.440145   -27.2886135  -55.74678106]\n",
            "[ -9.99014528 -13.20945586 -47.75293704]\n",
            "[-27.66654906 -11.14642736 -93.72081957]\n",
            "[-12.20278253 -36.76605715 -86.24888359]\n",
            "[ -9.45346395 -25.25050441 -86.69988784]\n",
            "[ -9.79482163 -22.33492855 -60.71713939]\n",
            "[-34.261734   -41.12187517 -10.16565791]\n",
            "[ -9.51435624 -18.90353428 -63.5636299 ]\n",
            "[-12.14230475 -21.83715986 -50.36379557]\n",
            "[-35.89963965 -42.22257217  -9.4678498 ]\n",
            "[-16.34748415  -8.7340222  -60.15712448]\n",
            "[-10.0056464  -17.92487447 -55.2314373 ]\n",
            "[-28.20583754 -32.77018086 -10.37351522]\n",
            "[-57.14814823 -60.5088753  -16.99913011]\n",
            "[ -9.90430119 -27.42609231 -73.90049958]\n",
            "[-32.20062538 -36.11303552  -8.42412945]\n",
            "[-16.53247402 -10.17374143 -48.78697177]\n",
            "[ -11.43007378  -28.96774218 -111.1509236 ]\n",
            "[-34.21694838 -38.92785746  -8.77277245]\n",
            "[-10.23283373 -30.34861935 -98.20408236]\n",
            "[-31.18671448 -34.81913092  -8.85247589]\n",
            "[-11.75555192 -14.03608936 -75.69459119]\n",
            "[-14.92928864  -9.6220444  -42.12106171]\n",
            "[-11.88375611 -22.29436701 -62.95009074]\n",
            "[ -9.85425413 -16.29699652 -51.696746  ]\n",
            "[-33.15350499 -37.75051826  -8.27215462]\n",
            "[-12.87274482 -14.91694711 -76.26237291]\n",
            "[-16.01808749  -8.49588191 -55.62323921]\n",
            "[-42.13816307 -46.58732345  -9.85878347]\n",
            "[ -15.5975009   -21.69125142 -107.62424165]\n",
            "[-19.20912358  -9.69320064 -67.00275786]\n",
            "[ -9.94526391 -20.58559026 -90.15113883]\n",
            "[-39.96887916 -46.16945277  -8.6685748 ]\n",
            "[-10.86597159 -20.06800542 -71.36898241]\n",
            "[-33.34872048 -39.16433503  -9.40465521]\n",
            "[ -12.81716697  -28.21243996 -113.36756365]\n",
            "[-10.49555888 -27.79217371 -67.59896098]\n",
            "[-26.33782162  -9.42429916 -78.85692557]\n",
            "[ -11.9540392   -31.10144224 -114.97327332]\n",
            "[-23.64913186  -8.57263221 -58.69522001]\n",
            "[-22.29415791  -8.44191763 -66.38058452]\n",
            "[-42.86369829 -49.60303857 -10.68555282]\n",
            "[-47.95721384 -56.11535833 -14.07694535]\n",
            "[-29.6374643  -34.15580271  -9.90373624]\n",
            "Train (apparent) error is 0.0146 while test error is 0.0146\n"
          ]
        }
      ],
      "source": [
        "qda2 = TensorizedQDA()\n",
        "qda2.fit(train_x_2, train_y_2)\n",
        "\n",
        "train_acc = accuracy(train_y_2, qda2.predict(train_x_2))\n",
        "test_acc = accuracy(test_y_2, qda2.predict(test_x_2))\n",
        "print(f\"Train (apparent) error is {1-train_acc:.4f} while test error is {1-test_acc:.4f}\")"
      ]
    },
    {
      "cell_type": "code",
      "execution_count": 26,
      "metadata": {},
      "outputs": [
        {
          "name": "stdout",
          "output_type": "stream",
          "text": [
            "3.73 ms ± 316 μs per loop (mean ± std. dev. of 7 runs, 100 loops each)\n"
          ]
        }
      ],
      "source": [
        "%%timeit\n",
        "\n",
        "qda2.predict(test_x)"
      ]
    },
    {
      "cell_type": "code",
      "execution_count": 27,
      "metadata": {},
      "outputs": [
        {
          "name": "stdout",
          "output_type": "stream",
          "text": [
            "4.27 ms ± 135 μs per loop (mean ± std. dev. of 7 runs, 100 loops each)\n"
          ]
        }
      ],
      "source": [
        "%%timeit\n",
        "\n",
        "model = QDA()\n",
        "model.fit(train_x, train_y)\n",
        "model.predict(test_x)"
      ]
    },
    {
      "cell_type": "markdown",
      "metadata": {},
      "source": [
        "3. Implementar el modelo LDA, entrenarlo y testearlo contra los mismos sets que QDA (no múltiples prioris) ¿Se observan diferencias? ¿Podría decirse que alguno de los dos es notoriamente mejor que el otro?\n",
        "\n",
        "* Se calcula\n",
        "* $\\hat{\\mu}_j = \\bar{x}_j$ el promedio de los $x$ de la clase *j*\n",
        "* $\\hat{\\pi}_j = f_{R_j} = \\frac{n_j}{n}$ la frecuencia relativa de la clase *j* en la muestra (dada por la clase BaseBayesianClassifier)\n",
        "* $\\hat{\\Sigma} = \\frac{1}{n} \\sum_{j=1}^k n_j \\cdot s^2_j$ el promedio ponderado (por frecs. relativas) de las matrices de covarianzas de todas las clases. *Observar que se utiliza el estimador de MV y no el insesgado*\n",
        "    * En np.cov(class_samples, rowvar=False, bias=True), el argumento bias=True asegura que se está utilizando el estimador de máxima verosimilitud. Este estimador divide por $n_j$ (en lugar de $n_j - 1$), que corresponde a la fórmula de máxima verosimilitud y no es insesgado"
      ]
    },
    {
      "cell_type": "code",
      "execution_count": 46,
      "metadata": {},
      "outputs": [],
      "source": [
        "class LDA(BaseBayesianClassifier):\n",
        "    def _fit_params(self, X, y):\n",
        "        n_samples, n_features = X.shape\n",
        "        n_classes = len(self.encoder.names)\n",
        "\n",
        "        # Calcular las medias para cada clase\n",
        "        self.means = [X[:, y.flatten() == idx].mean(axis=1, keepdims=True) \n",
        "                       for idx in range(n_classes)]\n",
        "        \n",
        "        # Inicializar la matriz de covarianza común\n",
        "        self.shared_cov = np.zeros((n_features, n_features))\n",
        "\n",
        "        # Calcular la matriz de covarianza común\n",
        "        for idx in range(n_classes):\n",
        "            class_samples = X[:, y.flatten() == idx]\n",
        "            shared_cov = np.cov(class_samples, bias=True)\n",
        "            shared_cov += shared_cov * class_samples.shape[1]\n",
        "        # Normalizar la matriz de covarianza común\n",
        "        shared_cov /= n_samples  # Divide por el número total de muestras\n",
        "\n",
        "        # Invertir la matriz de covarianza\n",
        "        self.inv_cov = inv(shared_cov)\n",
        "\n",
        "    def _predict_log_conditional(self, x, class_idx):\n",
        "        # Predecir log(P(x|G=class_idx)), el logaritmo de la probabilidad condicional de x dada la clase\n",
        "        unbiased_x = x - 0.5 * self.means[class_idx]\n",
        "        #log_p_conditional = (0.5 * np.log(det(self.inv_cov)) - 0.5 * (unbiased_x.T @ self.inv_cov @ unbiased_x))\n",
        "        log_p_conditional = self.means[class_idx].T @ self.inv_cov @ unbiased_x\n",
        "        return log_p_conditional\n",
        "    "
      ]
    },
    {
      "cell_type": "code",
      "execution_count": 47,
      "metadata": {},
      "outputs": [
        {
          "name": "stdout",
          "output_type": "stream",
          "text": [
            "Train (apparent) error is 0.0333 while test error is 0.0167\n"
          ]
        }
      ],
      "source": [
        "lda = LDA()\n",
        "lda.fit(train_x, train_y)\n",
        "\n",
        "train_acc = accuracy(train_y, lda.predict(train_x))\n",
        "test_acc = accuracy(test_y, lda.predict(test_x))\n",
        "print(f\"Train (apparent) error is {1-train_acc:.4f} while test error is {1-test_acc:.4f}\")"
      ]
    },
    {
      "cell_type": "code",
      "execution_count": 48,
      "metadata": {},
      "outputs": [
        {
          "data": {
            "text/html": [
              "<div>\n",
              "<style scoped>\n",
              "    .dataframe tbody tr th:only-of-type {\n",
              "        vertical-align: middle;\n",
              "    }\n",
              "\n",
              "    .dataframe tbody tr th {\n",
              "        vertical-align: top;\n",
              "    }\n",
              "\n",
              "    .dataframe thead th {\n",
              "        text-align: right;\n",
              "    }\n",
              "</style>\n",
              "<table border=\"1\" class=\"dataframe\">\n",
              "  <thead>\n",
              "    <tr style=\"text-align: right;\">\n",
              "      <th></th>\n",
              "      <th>True Label</th>\n",
              "      <th>Predicted Label</th>\n",
              "    </tr>\n",
              "  </thead>\n",
              "  <tbody>\n",
              "    <tr>\n",
              "      <th>51</th>\n",
              "      <td>versicolor</td>\n",
              "      <td>virginica</td>\n",
              "    </tr>\n",
              "  </tbody>\n",
              "</table>\n",
              "</div>"
            ],
            "text/plain": [
              "    True Label Predicted Label\n",
              "51  versicolor       virginica"
            ]
          },
          "metadata": {},
          "output_type": "display_data"
        },
        {
          "data": {
            "image/png": "[encoded data removed]",
            "text/plain": [
              "<Figure size 800x600 with 2 Axes>"
            ]
          },
          "metadata": {},
          "output_type": "display_data"
        }
      ],
      "source": [
        "from sklearn.metrics import confusion_matrix\n",
        "\n",
        "test_y_flatten = test_y.flatten()\n",
        "test_x_flatten = lda.predict(test_x).flatten()\n",
        "\n",
        "df_compare = pd.DataFrame({'True Label': test_y_flatten, 'Predicted Label': test_x_flatten})\n",
        "display(df_compare[df_compare['True Label'] != df_compare['Predicted Label']])\n",
        "# Calcular la matriz de confusión\n",
        "cm = confusion_matrix(test_y_flatten, test_x_flatten)\n",
        "\n",
        "# Visualizar con seaborn\n",
        "plt.figure(figsize=(8, 6))\n",
        "sns.heatmap(cm, annot=True, fmt='d', cmap='Blues')\n",
        "plt.xlabel('Predicted Label')\n",
        "plt.ylabel('True Label')\n",
        "plt.title('Confusion Matrix')\n",
        "plt.show()\n"
      ]
    },
    {
      "cell_type": "code",
      "execution_count": 49,
      "metadata": {},
      "outputs": [
        {
          "name": "stdout",
          "output_type": "stream",
          "text": [
            "1.81 ms ± 155 μs per loop (mean ± std. dev. of 7 runs, 100 loops each)\n"
          ]
        }
      ],
      "source": [
        "%%timeit\n",
        "\n",
        "lda.predict(test_x)"
      ]
    },
    {
      "cell_type": "code",
      "execution_count": 50,
      "metadata": {},
      "outputs": [
        {
          "name": "stdout",
          "output_type": "stream",
          "text": [
            "2.28 ms ± 109 μs per loop (mean ± std. dev. of 7 runs, 100 loops each)\n"
          ]
        }
      ],
      "source": [
        "%%timeit\n",
        "\n",
        "model = LDA()\n",
        "model.fit(train_x, train_y)\n",
        "model.predict(test_x)"
      ]
    },
    {
      "cell_type": "markdown",
      "metadata": {
        "id": "BsDYvwFEEKV5"
      },
      "source": [
        "## Optimización matemática\n",
        "\n",
        "### LDA\n",
        "\n",
        "1. \"Tensorizar\" el modelo LDA y comparar sus tiempos de predicción con el modelo antes implementado. *Notar que, en modo tensorizado, se puede directamente precomputar $\\mu^T \\cdot \\Sigma^{-1} \\in \\mathbb{R}^{k \\times 1 \\times p}$ y guardar eso en vez de $\\Sigma^{-1}$.*\n",
        "2. LDA no sufre del problema antes descrito de QDA debido a que no computa productos internos, por lo que no tiene un verdadero costo extra en memoria predecir \"en batch\". Implementar el modelo `FasterLDA` y comparar sus tiempos de predicción con las versiones anteriores de LDA."
      ]
    },
    {
      "cell_type": "code",
      "execution_count": 108,
      "metadata": {},
      "outputs": [],
      "source": [
        "class TensorizedLDA(LDA):\n",
        "\n",
        "    def _fit_params(self, X, y):\n",
        "        # ask plain QDA to fit params\n",
        "        super()._fit_params(X,y)\n",
        "\n",
        "        # stack onto new dimension\n",
        "        #self.tensor_inv_cov = np.stack(self.inv_covs)\n",
        "        self.tensor_means = np.stack(self.means)\n",
        "\n",
        "    def _predict_log_conditionals(self,x):\n",
        "        #unbiased_x = x - self.tensor_means\n",
        "        unbiased_x = x - 0.5 * self.tensor_means\n",
        "        inv_cov_unbiased_x = self.inv_cov @ unbiased_x\n",
        "        #print(self.tensor_means.transpose(0,2,1).shape)\n",
        "        #print(inv_cov_unbiased_x.shape)\n",
        "        #inner_prod = unbiased_x.transpose(0,2,1) @ self.inv_cov @ unbiased_x  \n",
        "        z = self.tensor_means.transpose(0,2,1) @ inv_cov_unbiased_x\n",
        "        #print(z.flatten())\n",
        "        #print(type(z))\n",
        "        return z.flatten()\n",
        "\n",
        "    def _predict_one(self, x):\n",
        "        # return the class that has maximum a posteriori probability\n",
        "        return np.argmax(self.log_a_priori + self._predict_log_conditionals(x))"
      ]
    },
    {
      "cell_type": "code",
      "execution_count": 109,
      "metadata": {},
      "outputs": [
        {
          "name": "stdout",
          "output_type": "stream",
          "text": [
            "Train (apparent) error is 0.0333 while test error is 0.0167\n"
          ]
        }
      ],
      "source": [
        "tensorizedlda = TensorizedLDA()\n",
        "tensorizedlda.fit(train_x, train_y)\n",
        "\n",
        "train_acc = accuracy(train_y, tensorizedlda.predict(train_x))\n",
        "test_acc = accuracy(test_y, tensorizedlda.predict(test_x))\n",
        "print(f\"Train (apparent) error is {1-train_acc:.4f} while test error is {1-test_acc:.4f}\")"
      ]
    },
    {
      "cell_type": "code",
      "execution_count": 110,
      "metadata": {},
      "outputs": [
        {
          "data": {
            "text/html": [
              "<div>\n",
              "<style scoped>\n",
              "    .dataframe tbody tr th:only-of-type {\n",
              "        vertical-align: middle;\n",
              "    }\n",
              "\n",
              "    .dataframe tbody tr th {\n",
              "        vertical-align: top;\n",
              "    }\n",
              "\n",
              "    .dataframe thead th {\n",
              "        text-align: right;\n",
              "    }\n",
              "</style>\n",
              "<table border=\"1\" class=\"dataframe\">\n",
              "  <thead>\n",
              "    <tr style=\"text-align: right;\">\n",
              "      <th></th>\n",
              "      <th>True Label</th>\n",
              "      <th>Predicted Label</th>\n",
              "    </tr>\n",
              "  </thead>\n",
              "  <tbody>\n",
              "    <tr>\n",
              "      <th>51</th>\n",
              "      <td>versicolor</td>\n",
              "      <td>virginica</td>\n",
              "    </tr>\n",
              "  </tbody>\n",
              "</table>\n",
              "</div>"
            ],
            "text/plain": [
              "    True Label Predicted Label\n",
              "51  versicolor       virginica"
            ]
          },
          "metadata": {},
          "output_type": "display_data"
        },
        {
          "data": {
            "image/png": "[encoded data removed]",
            "text/plain": [
              "<Figure size 800x600 with 2 Axes>"
            ]
          },
          "metadata": {},
          "output_type": "display_data"
        }
      ],
      "source": [
        "from sklearn.metrics import confusion_matrix\n",
        "\n",
        "test_y_flatten = test_y.flatten()\n",
        "test_x_flatten = tensorizedlda.predict(test_x).flatten()\n",
        "\n",
        "df_compare = pd.DataFrame({'True Label': test_y_flatten, 'Predicted Label': test_x_flatten})\n",
        "display(df_compare[df_compare['True Label'] != df_compare['Predicted Label']])\n",
        "# Calcular la matriz de confusión\n",
        "cm = confusion_matrix(test_y_flatten, test_x_flatten)\n",
        "\n",
        "# Visualizar con seaborn\n",
        "plt.figure(figsize=(8, 6))\n",
        "sns.heatmap(cm, annot=True, fmt='d', cmap='Blues')\n",
        "plt.xlabel('Predicted Label')\n",
        "plt.ylabel('True Label')\n",
        "plt.title('Confusion Matrix')\n",
        "plt.show()"
      ]
    },
    {
      "cell_type": "code",
      "execution_count": 56,
      "metadata": {},
      "outputs": [
        {
          "name": "stdout",
          "output_type": "stream",
          "text": [
            "1.47 ms ± 23.8 μs per loop (mean ± std. dev. of 7 runs, 1,000 loops each)\n"
          ]
        }
      ],
      "source": [
        "%%timeit\n",
        "\n",
        "tensorizedlda.predict(test_x)"
      ]
    },
    {
      "cell_type": "code",
      "execution_count": 40,
      "metadata": {},
      "outputs": [
        {
          "name": "stdout",
          "output_type": "stream",
          "text": [
            "2.16 ms ± 49.4 μs per loop (mean ± std. dev. of 7 runs, 100 loops each)\n"
          ]
        }
      ],
      "source": [
        "%%timeit\n",
        "\n",
        "model = TensorizedLDA()\n",
        "model.fit(train_x, train_y)\n",
        "model.predict(test_x)"
      ]
    },
    {
      "cell_type": "code",
      "execution_count": null,
      "metadata": {},
      "outputs": [],
      "source": []
    },
    {
      "cell_type": "markdown",
      "metadata": {},
      "source": [
        "# Consigna"
      ]
    },
    {
      "cell_type": "markdown",
      "metadata": {
        "id": "1Yb1V7_yXRfO"
      },
      "source": [
        "## Implementación base\n",
        "1. Entrenar un modelo QDA sobre el dataset *iris* utilizando las distribuciones *a priori* a continuación ¿Se observan diferencias?¿Por qué cree? _Pista: comparar con las distribuciones del dataset completo, **sin splitear**_.\n",
        "    1. Uniforme (cada clase tiene probabilidad 1/3)\n",
        "    2. Una clase con probabilidad 0.9, las demás 0.05 (probar las 3 combinaciones)\n",
        "2. Repetir el punto anterior para el dataset *penguin*.\n",
        "3. Implementar el modelo LDA, entrenarlo y testearlo contra los mismos sets que QDA (no múltiples prioris) ¿Se observan diferencias? ¿Podría decirse que alguno de los dos es notoriamente mejor que el otro?\n",
        "4. Utilizar otros 2 (dos) valores de *random seed* para obtener distintos splits de train y test, y repetir la comparación del punto anterior ¿Las conclusiones previas se mantienen?\n",
        "5. Estimar y comparar los tiempos de predicción de las clases `QDA` y `TensorizedQDA`. De haber diferencias ¿Cuáles pueden ser las causas?\n",
        "\n",
        "\n",
        "**Sugerencia:** puede resultar de utilidad para cada inciso de comparación utilizar tablas del siguiente estilo:\n",
        "\n",
        "<center>\n",
        "\n",
        "Modelo | Dataset | Seed | Error (train) | Error (test)\n",
        ":---: | :---: | :---: | :---: | :---:\n",
        "QDA | Iris | 125 | 0.55 | 0.85\n",
        "LDA | Iris | 125 | 0.22 | 0.8\n",
        "\n",
        "</center>\n"
      ]
    },
    {
      "cell_type": "markdown",
      "metadata": {
        "id": "7M32U5xI-gIv"
      },
      "source": [
        "## Optimización matemática\n",
        "\n",
        "**Sugerencia:** considerar combinaciones adecuadas de `transpose`, `reshape` y, ocasionalmente, `flatten`. Explorar la dimensionalidad de cada elemento antes de implementar las clases.\n",
        "\n",
        "### QDA\n",
        "\n",
        "Debido a la forma cuadrática de QDA, no se puede predecir para *n* observaciones en una sola pasada (utilizar $X \\in \\mathbb{R}^{p \\times n}$ en vez de $x \\in \\mathbb{R}^p$) sin pasar por una matriz de *n x n* en donde se computan todas las interacciones entre observaciones. Se puede acceder al resultado recuperando sólo la diagonal de dicha matriz, pero resulta ineficiente en tiempo y (especialmente) en memoria. Aún así, es *posible* que el modelo funcione más rápido.\n",
        "\n",
        "1. Implementar el modelo `FasterQDA` (se recomienda heredarlo de TensorizedQDA) de manera de eliminar el ciclo for en el método predict.\n",
        "2. Comparar los tiempos de predicción de `FasterQDA` con `TensorizedQDA` y `QDA`.\n",
        "3. Mostrar (puede ser con un print) dónde aparece la mencionada matriz de *n x n*, donde *n* es la cantidad de observaciones a predecir.\n",
        "4.Demostrar que\n",
        "$$\n",
        "diag(A \\cdot B) = \\sum_{cols} A \\odot B^T = np.sum(A \\odot B^T, axis=1)\n",
        "$$ es decir, que se puede \"esquivar\" la matriz de *n x n* usando matrices de *n x p*.\n",
        "5.Utilizar la propiedad antes demostrada para reimplementar la predicción del modelo `FasterQDA` de forma eficiente. ¿Hay cambios en los tiempos de predicción?\n",
        "\n",
        "\n",
        "### LDA\n",
        "\n",
        "1. \"Tensorizar\" el modelo LDA y comparar sus tiempos de predicción con el modelo antes implementado. *Notar que, en modo tensorizado, se puede directamente precomputar $\\mu^T \\cdot \\Sigma^{-1} \\in \\mathbb{R}^{k \\times 1 \\times p}$ y guardar eso en vez de $\\Sigma^{-1}$.*\n",
        "2. LDA no sufre del problema antes descrito de QDA debido a que no computa productos internos, por lo que no tiene un verdadero costo extra en memoria predecir \"en batch\". Implementar el modelo `FasterLDA` y comparar sus tiempos de predicción con las versiones anteriores de LDA."
      ]
    },
    {
      "cell_type": "markdown",
      "metadata": {
        "id": "U7oPeQ0z-pux"
      },
      "source": [
        "## Preguntas teóricas\n",
        "\n",
        "1. En LDA se menciona que la función a maximizar puede ser, mediante operaciones, convertida en:\n",
        "$$\n",
        "\\log{f_j(x)} =  \\mu_j^T \\Sigma^{-1} (x- \\frac{1}{2} \\mu_j) + C'\n",
        "$$\n",
        "Mostrar los pasos por los cuales se llega a dicha expresión.\n",
        "2. Explicar, utilizando las respectivas funciones a maximizar, por qué QDA y LDA son \"quadratic\" y \"linear\".\n",
        "3. La implementación de QDA estima la probabilidad condicional utilizando `0.5*np.log(det(inv_cov)) -0.5 * unbiased_x.T @ inv_cov @ unbiased_x` que no es *exactamente* lo descrito en el apartado teórico ¿Cuáles son las diferencias y por qué son expresiones equivalentes?\n",
        "\n",
        "El espíritu de esta componente práctica es la de establecer un mínimo de trabajo aceptable para su entrega; se invita al alumno a explorar otros aspectos que generen curiosidad, sin sentirse de ninguna manera limitado por la consigna."
      ]
    },
    {
      "cell_type": "markdown",
      "metadata": {
        "id": "CpOoxE2d-mOY"
      },
      "source": [
        "## Ejercicio teórico\n",
        "\n",
        "Sea una red neuronal de dos capas, la primera de 3 neuronas y la segunda de 1 con los parámetros inicializados con los siguientes valores:\n",
        "$$\n",
        "w^{(1)} =\n",
        "\\begin{pmatrix}\n",
        "0.1 & -0.5 \\\\\n",
        "-0.3 & -0.9 \\\\\n",
        "0.8 & 0.02\n",
        "\\end{pmatrix},\n",
        "b^{(1)} = \\begin{pmatrix}\n",
        "0.1 \\\\\n",
        "0.5 \\\\\n",
        "0.8\n",
        "\\end{pmatrix},\n",
        "w^{(2)} =\n",
        "\\begin{pmatrix}\n",
        "-0.4 & 0.2 & -0.5\n",
        "\\end{pmatrix},\n",
        "b^{(2)} = 0.7\n",
        "$$\n",
        "\n",
        "y donde cada capa calcula su salida vía\n",
        "\n",
        "$$\n",
        "y^{(i)} = \\sigma (w^{(i)} \\cdot x^{(i)}+b^{(i)})\n",
        "$$\n",
        "\n",
        "donde $\\sigma (z) = \\frac{1}{1+e^{-z}}$ es la función sigmoidea .\n",
        "\n",
        "\\\\\n",
        "Dada la observación $x=\\begin{pmatrix}\n",
        "1.8 \\\\\n",
        "-3.4\n",
        "\\end{pmatrix}$, $y=5$ y la función de costo $J(\\theta)=\\frac{1}{2}(\\hat{y}_\\theta-y)^2$, calcular las derivadas de J respecto de cada parámetro $w^{(1)}$, $w^{(2)}$, $b^{(1)}$, $b^{(2)}$.\n",
        "\n",
        "*Nota: Con una sigmoidea a la salida jamás va a poder estimar el 5 \"pedido\", pero eso no afecta al mecanismo de backpropagation!*"
      ]
    },
    {
      "cell_type": "markdown",
      "metadata": {
        "id": "z-CNlW06-i-u"
      },
      "source": [
        "## Preguntas en el código\n",
        "Previamente las preguntas \"técnicas\" en comentarios en el código eran parte del TP, y buscaban que el alumno logre entrar en el detalle de por qué cada linea de código es como es y en el orden en el que está. Ya no forman parte de la consigna, pero se aconseja al alumno intentar responderlas. Las respuestas a las mismas se encuentran en un archivo separado."
      ]
    }
  ],
  "metadata": {
    "colab": {
      "provenance": []
    },
    "kernelspec": {
      "display_name": "amia-j4FGlwjZ-py3.12",
      "language": "python",
      "name": "python3"
    },
    "language_info": {
      "codemirror_mode": {
        "name": "ipython",
        "version": 3
      },
      "file_extension": ".py",
      "mimetype": "text/x-python",
      "name": "python",
      "nbconvert_exporter": "python",
      "pygments_lexer": "ipython3",
      "version": "3.12.5"
    }
  },
  "nbformat": 4,
  "nbformat_minor": 0
}
